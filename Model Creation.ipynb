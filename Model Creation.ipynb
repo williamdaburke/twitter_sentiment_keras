{
 "cells": [
  {
   "cell_type": "code",
   "execution_count": 2,
   "metadata": {},
   "outputs": [],
   "source": [
    "import pandas as pd\n",
    "import numpy as np \n",
    "\n",
    "from utils import *\n",
    "from IPython.core.interactiveshell import InteractiveShell\n",
    "InteractiveShell.ast_node_interactivity = \"all\"\n",
    "\n"
   ]
  },
  {
   "cell_type": "code",
   "execution_count": 4,
   "metadata": {},
   "outputs": [
    {
     "name": "stdout",
     "output_type": "stream",
     "text": [
      "\n",
      "df shape:  (3000, 9)\n",
      "\n",
      "rows with null values:      author.properties.friends  author.properties.status_count  \\\n",
      "551                       854                          3688.0   \n",
      "552  || TELL ME YOUR NAME! XD                             NaN   \n",
      "\n",
      "    author.properties.verified                  content.body location.country  \\\n",
      "551                      False  @DrunkenOldQrow @FancyWeiss                GB   \n",
      "552                    twitter                           NaN              NaN   \n",
      "\n",
      "     location.latitude  location.longitude properties.platform  \\\n",
      "551          52.052777           -2.702861                 NaN   \n",
      "552                NaN                 NaN                 NaN   \n",
      "\n",
      "     properties.sentiment  \n",
      "551                   1.0  \n",
      "552                   NaN  \n",
      "\n",
      "types of platforms:  twitter    2996\n",
      "Name: properties.platform, dtype: int64\n",
      "\n",
      "rows that arent twitter:  (1, 9)\n",
      "\n",
      "type of friends col:  int32\n",
      "\n",
      " country breakdown:  GB    2989\n",
      "GG       5\n",
      "JE       2\n",
      "IM       1\n",
      "Name: location.country, dtype: int64\n"
     ]
    },
    {
     "data": {
      "image/png": "[encoded data removed]",
      "text/plain": [
       "<Figure size 360x216 with 1 Axes>"
      ]
     },
     "metadata": {
      "needs_background": "light"
     },
     "output_type": "display_data"
    }
   ],
   "source": [
    "combined_df = load_combined_df()"
   ]
  },
  {
   "cell_type": "code",
   "execution_count": null,
   "metadata": {},
   "outputs": [],
   "source": [
    "#encode country and verified cols\n",
    "combined_df['location.country'].unique()\n",
    "combined_df = encode_labels(combined_df,['author.properties.verified','location.country'])\n",
    "combined_df['location.country'].unique()"
   ]
  }
 ],
 "metadata": {
  "kernelspec": {
   "display_name": "Python 3",
   "language": "python",
   "name": "python3"
  },
  "language_info": {
   "codemirror_mode": {
    "name": "ipython",
    "version": 3
   },
   "file_extension": ".py",
   "mimetype": "text/x-python",
   "name": "python",
   "nbconvert_exporter": "python",
   "pygments_lexer": "ipython3",
   "version": "3.6.7"
  }
 },
 "nbformat": 4,
 "nbformat_minor": 2
}
