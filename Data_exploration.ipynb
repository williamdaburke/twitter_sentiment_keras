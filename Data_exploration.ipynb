{
 "cells": [
  {
   "cell_type": "code",
   "execution_count": 1,
   "metadata": {},
   "outputs": [],
   "source": [
    "import pandas as pd\n",
    "import numpy as np \n",
    "\n",
    "from utils import *\n",
    "from IPython.core.interactiveshell import InteractiveShell\n",
    "InteractiveShell.ast_node_interactivity = \"all\"\n",
    "\n",
    "from sklearn.decomposition import PCA\n",
    "import matplotlib.pyplot as plt\n",
    "plt.rcParams['figure.figsize'] = [30,15]"
   ]
  },
  {
   "cell_type": "code",
   "execution_count": 2,
   "metadata": {},
   "outputs": [
    {
     "name": "stderr",
     "output_type": "stream",
     "text": [
      "E:\\Projects\\bitbucket\\fancy-a-challenge-william\\utils.py:16: FutureWarning: Sorting because non-concatenation axis is not aligned. A future version\n",
      "of pandas will change to not sort by default.\n",
      "\n",
      "To accept the future behavior, pass 'sort=False'.\n",
      "\n",
      "To retain the current behavior and silence the warning, pass 'sort=True'.\n",
      "\n",
      "  combined_df = pd.concat([csv_df,txt_df])\n"
     ]
    },
    {
     "name": "stdout",
     "output_type": "stream",
     "text": [
      "\n",
      "df shape:  (3000, 9)\n",
      "\n",
      "rows with null values:      author.properties.friends  author.properties.status_count  \\\n",
      "551                       854                          3688.0   \n",
      "552  || TELL ME YOUR NAME! XD                             NaN   \n",
      "\n",
      "    author.properties.verified                  content.body location.country  \\\n",
      "551                      False  @DrunkenOldQrow @FancyWeiss                GB   \n",
      "552                    twitter                           NaN              NaN   \n",
      "\n",
      "     location.latitude  location.longitude properties.platform  \\\n",
      "551          52.052777           -2.702861                 NaN   \n",
      "552                NaN                 NaN                 NaN   \n",
      "\n",
      "     properties.sentiment  \n",
      "551                   1.0  \n",
      "552                   NaN  \n",
      "\n",
      "types of platforms:  twitter    2996\n",
      "Name: properties.platform, dtype: int64\n",
      "\n",
      "rows that arent twitter:  (1, 9)\n",
      "\n",
      "type of friends col:  int32\n",
      "\n",
      " country breakdown:  GB    2989\n",
      "GG       5\n",
      "JE       2\n",
      "IM       1\n",
      "Name: location.country, dtype: int64\n"
     ]
    },
    {
     "data": {
      "text/html": [
       "<div>\n",
       "<style scoped>\n",
       "    .dataframe tbody tr th:only-of-type {\n",
       "        vertical-align: middle;\n",
       "    }\n",
       "\n",
       "    .dataframe tbody tr th {\n",
       "        vertical-align: top;\n",
       "    }\n",
       "\n",
       "    .dataframe thead th {\n",
       "        text-align: right;\n",
       "    }\n",
       "</style>\n",
       "<table border=\"1\" class=\"dataframe\">\n",
       "  <thead>\n",
       "    <tr style=\"text-align: right;\">\n",
       "      <th></th>\n",
       "      <th>author.properties.friends</th>\n",
       "      <th>author.properties.status_count</th>\n",
       "      <th>author.properties.verified</th>\n",
       "      <th>content.body</th>\n",
       "      <th>location.country</th>\n",
       "      <th>location.latitude</th>\n",
       "      <th>location.longitude</th>\n",
       "      <th>properties.sentiment</th>\n",
       "    </tr>\n",
       "  </thead>\n",
       "  <tbody>\n",
       "    <tr>\n",
       "      <th>0</th>\n",
       "      <td>1689</td>\n",
       "      <td>22566.0</td>\n",
       "      <td>False</td>\n",
       "      <td>Can't believe I'm missing Love Island 😩</td>\n",
       "      <td>GB</td>\n",
       "      <td>51.570448</td>\n",
       "      <td>0.457135</td>\n",
       "      <td>1.0</td>\n",
       "    </tr>\n",
       "    <tr>\n",
       "      <th>1</th>\n",
       "      <td>114</td>\n",
       "      <td>1377.0</td>\n",
       "      <td>False</td>\n",
       "      <td>Last tweet about future wedding..... if I actu...</td>\n",
       "      <td>GB</td>\n",
       "      <td>52.969744</td>\n",
       "      <td>-1.172266</td>\n",
       "      <td>1.0</td>\n",
       "    </tr>\n",
       "    <tr>\n",
       "      <th>2</th>\n",
       "      <td>568</td>\n",
       "      <td>8375.0</td>\n",
       "      <td>False</td>\n",
       "      <td>How many times does he wonna say the phrase \"i...</td>\n",
       "      <td>GB</td>\n",
       "      <td>51.394369</td>\n",
       "      <td>0.026299</td>\n",
       "      <td>-1.0</td>\n",
       "    </tr>\n",
       "    <tr>\n",
       "      <th>3</th>\n",
       "      <td>1845</td>\n",
       "      <td>19394.0</td>\n",
       "      <td>False</td>\n",
       "      <td>...even better if time travel were invented an...</td>\n",
       "      <td>GB</td>\n",
       "      <td>51.648544</td>\n",
       "      <td>-3.804292</td>\n",
       "      <td>-1.0</td>\n",
       "    </tr>\n",
       "    <tr>\n",
       "      <th>4</th>\n",
       "      <td>1617</td>\n",
       "      <td>17922.0</td>\n",
       "      <td>False</td>\n",
       "      <td>@GreenAlty @ShakeyStephens My Mum in mid 80s p...</td>\n",
       "      <td>GB</td>\n",
       "      <td>53.543471</td>\n",
       "      <td>-2.653238</td>\n",
       "      <td>0.0</td>\n",
       "    </tr>\n",
       "  </tbody>\n",
       "</table>\n",
       "</div>"
      ],
      "text/plain": [
       "   author.properties.friends  author.properties.status_count  \\\n",
       "0                       1689                         22566.0   \n",
       "1                        114                          1377.0   \n",
       "2                        568                          8375.0   \n",
       "3                       1845                         19394.0   \n",
       "4                       1617                         17922.0   \n",
       "\n",
       "  author.properties.verified  \\\n",
       "0                      False   \n",
       "1                      False   \n",
       "2                      False   \n",
       "3                      False   \n",
       "4                      False   \n",
       "\n",
       "                                        content.body location.country  \\\n",
       "0            Can't believe I'm missing Love Island 😩               GB   \n",
       "1  Last tweet about future wedding..... if I actu...               GB   \n",
       "2  How many times does he wonna say the phrase \"i...               GB   \n",
       "3  ...even better if time travel were invented an...               GB   \n",
       "4  @GreenAlty @ShakeyStephens My Mum in mid 80s p...               GB   \n",
       "\n",
       "   location.latitude  location.longitude  properties.sentiment  \n",
       "0          51.570448            0.457135                   1.0  \n",
       "1          52.969744           -1.172266                   1.0  \n",
       "2          51.394369            0.026299                  -1.0  \n",
       "3          51.648544           -3.804292                  -1.0  \n",
       "4          53.543471           -2.653238                   0.0  "
      ]
     },
     "execution_count": 2,
     "metadata": {},
     "output_type": "execute_result"
    },
    {
     "data": {
      "image/png": "[encoded data removed]",
      "text/plain": [
       "<Figure size 360x216 with 1 Axes>"
      ]
     },
     "metadata": {
      "needs_background": "light"
     },
     "output_type": "display_data"
    }
   ],
   "source": [
    "combined_df = load_combined_df()\n",
    "combined_df.head()"
   ]
  },
  {
   "cell_type": "code",
   "execution_count": 8,
   "metadata": {},
   "outputs": [
    {
     "data": {
      "text/plain": [
       "array(['GB', 'GG', 'IM', 'JE'], dtype=object)"
      ]
     },
     "execution_count": 8,
     "metadata": {},
     "output_type": "execute_result"
    },
    {
     "name": "stdout",
     "output_type": "stream",
     "text": [
      "author.properties.verified\n",
      "location.country\n"
     ]
    },
    {
     "data": {
      "text/plain": [
       "array([0, 1, 2, 3], dtype=int64)"
      ]
     },
     "execution_count": 8,
     "metadata": {},
     "output_type": "execute_result"
    }
   ],
   "source": [
    "#encode country and verified cols\n",
    "combined_df['location.country'].unique()\n",
    "combined_df = encode_labels(combined_df,['author.properties.verified','location.country'])\n",
    "combined_df['location.country'].unique()\n"
   ]
  },
  {
   "cell_type": "code",
   "execution_count": 9,
   "metadata": {},
   "outputs": [
    {
     "name": "stdout",
     "output_type": "stream",
     "text": [
      "\n",
      "Running PCA again ...\n",
      "Explained variance: 1.0000\n"
     ]
    },
    {
     "data": {
      "text/plain": [
       "array([[-0.00777076, -0.00726735,  0.00125783],\n",
       "       [-0.00793499, -0.01980739, -0.00321344],\n",
       "       [-0.00788078, -0.01566995, -0.00193538],\n",
       "       ...,\n",
       "       [-0.00766915,  0.00043001, -0.00130692],\n",
       "       [-0.00772137, -0.00355792, -0.0027983 ],\n",
       "       [-0.00794388, -0.02044954, -0.00028688]])"
      ]
     },
     "execution_count": 9,
     "metadata": {},
     "output_type": "execute_result"
    }
   ],
   "source": [
    "no_body_df = normalize(combined_df.drop(['content.body','location.country','location.latitude','location.longitude'],axis=1))\n",
    "\n",
    "print('\\nRunning PCA again ...')\n",
    "label_col = \"properties.sentiment\"\n",
    "y_normal = no_body_df[label_col].values.astype(np.int8)\n",
    "\n",
    "colors = ['blue', 'red']\n",
    "n_comp = len(no_body_df.drop([label_col],axis=1).columns)\n",
    "target_names = np.unique(y_normal)\n",
    "pca = PCA(n_components=n_comp, svd_solver='full', random_state=1001)\n",
    "X_pca = pca.fit_transform(no_body_df.drop([label_col],axis=1).values)\n",
    "print('Explained variance: %.4f' % pca.explained_variance_ratio_.sum())\n",
    "\n",
    "X_pca"
   ]
  },
  {
   "cell_type": "code",
   "execution_count": 15,
   "metadata": {},
   "outputs": [
    {
     "name": "stdout",
     "output_type": "stream",
     "text": [
      "Individual variance contributions:\n",
      "0.544437179424992\n",
      "0.41187485383382955\n",
      "0.04368796674117838\n"
     ]
    },
    {
     "data": {
      "text/plain": [
       "<matplotlib.collections.PathCollection at 0x1f5402dcf60>"
      ]
     },
     "execution_count": 15,
     "metadata": {},
     "output_type": "execute_result"
    },
    {
     "data": {
      "text/plain": [
       "<matplotlib.collections.PathCollection at 0x1f5402e7470>"
      ]
     },
     "execution_count": 15,
     "metadata": {},
     "output_type": "execute_result"
    },
    {
     "data": {
      "text/plain": [
       "<matplotlib.legend.Legend at 0x1f5402ad320>"
      ]
     },
     "execution_count": 15,
     "metadata": {},
     "output_type": "execute_result"
    },
    {
     "data": {
      "text/plain": [
       "Text(0.5,1,'Scatter plot of the training data projected on the 1st and 2nd principal components')"
      ]
     },
     "execution_count": 15,
     "metadata": {},
     "output_type": "execute_result"
    },
    {
     "data": {
      "text/plain": [
       "Text(0.5,0,'Principal axis 1 - Explains 54.4 % of the variance')"
      ]
     },
     "execution_count": 15,
     "metadata": {},
     "output_type": "execute_result"
    },
    {
     "data": {
      "text/plain": [
       "Text(0,0.5,'Principal axis 2 - Explains 41.2 % of the variance')"
      ]
     },
     "execution_count": 15,
     "metadata": {},
     "output_type": "execute_result"
    },
    {
     "data": {
      "image/png": "[encoded data removed]",
      "text/plain": [
       "<Figure size 2160x1080 with 1 Axes>"
      ]
     },
     "metadata": {
      "needs_background": "light"
     },
     "output_type": "display_data"
    }
   ],
   "source": [
    "print('Individual variance contributions:')\n",
    "for j in range(n_comp):\n",
    "    print(pca.explained_variance_ratio_[j])\n",
    "\n",
    "colors = ['blue', 'red']\n",
    "plt.rcParams['figure.figsize'] = [30,15]\n",
    "\n",
    "for color, i, target_name in zip(colors, [0, 1], target_names):\n",
    "    plt.scatter(X_pca[y_normal == i, 0], X_pca[y_normal == i, 1], color=color, s=1,\n",
    "                alpha=.8, label=target_name, marker='.')\n",
    "plt.legend(loc='best', shadow=False, scatterpoints=3)\n",
    "plt.title(\n",
    "        \"Scatter plot of the training data projected on the 1st \"\n",
    "        \"and 2nd principal components\")\n",
    "plt.xlabel(\"Principal axis 1 - Explains %.1f %% of the variance\" % (\n",
    "        pca.explained_variance_ratio_[0] * 100.0))\n",
    "plt.ylabel(\"Principal axis 2 - Explains %.1f %% of the variance\" % (\n",
    "        pca.explained_variance_ratio_[1] * 100.0))\n",
    "\n",
    "plt.savefig('pca-porto-01.png', dpi=150)\n",
    "plt.show()"
   ]
  },
  {
   "cell_type": "code",
   "execution_count": 12,
   "metadata": {},
   "outputs": [
    {
     "name": "stdout",
     "output_type": "stream",
     "text": [
      "\n",
      "Running PCA again ...\n"
     ]
    },
    {
     "data": {
      "text/plain": [
       "<matplotlib.collections.PathCollection at 0x1f54027bd30>"
      ]
     },
     "execution_count": 12,
     "metadata": {},
     "output_type": "execute_result"
    },
    {
     "data": {
      "text/plain": [
       "<matplotlib.collections.PathCollection at 0x1f5402882e8>"
      ]
     },
     "execution_count": 12,
     "metadata": {},
     "output_type": "execute_result"
    },
    {
     "data": {
      "text/plain": [
       "<matplotlib.legend.Legend at 0x1f53fe682e8>"
      ]
     },
     "execution_count": 12,
     "metadata": {},
     "output_type": "execute_result"
    },
    {
     "data": {
      "text/plain": [
       "Text(0.5,1,'Scatter plot of the training data projected on the 1st and 2nd principal components')"
      ]
     },
     "execution_count": 12,
     "metadata": {},
     "output_type": "execute_result"
    },
    {
     "data": {
      "text/plain": [
       "Text(0.5,0,'latitude')"
      ]
     },
     "execution_count": 12,
     "metadata": {},
     "output_type": "execute_result"
    },
    {
     "data": {
      "text/plain": [
       "Text(0,0.5,'longitude')"
      ]
     },
     "execution_count": 12,
     "metadata": {},
     "output_type": "execute_result"
    },
    {
     "data": {
      "image/png": "[encoded data removed]",
      "text/plain": [
       "<Figure size 2160x1080 with 1 Axes>"
      ]
     },
     "metadata": {
      "needs_background": "light"
     },
     "output_type": "display_data"
    }
   ],
   "source": [
    "geo_array = np.array(combined_df[['location.latitude','location.longitude']])\n",
    "\n",
    "print('\\nRunning PCA again ...')\n",
    "label_col = \"properties.sentiment\"\n",
    "y_normal = combined_df[label_col].values.astype(np.int8)\n",
    "target_names = np.unique(y_normal)\n",
    "\n",
    "colors = ['blue', 'red']\n",
    "plt.rcParams['figure.figsize'] = [30,15]\n",
    "\n",
    "for color, i, target_name in zip(colors, [0, 1], target_names):\n",
    "    plt.scatter(geo_array[y_normal == i, 0], geo_array[y_normal == i, 1], color=color, s=1,\n",
    "                alpha=.8, label=target_name, marker='.')\n",
    "plt.legend(loc='best', shadow=False, scatterpoints=3)\n",
    "plt.title(\n",
    "        \"Scatter plot of the training data projected on the 1st \"\n",
    "        \"and 2nd principal components\")\n",
    "plt.xlabel(\"latitude\")\n",
    "plt.ylabel(\"longitude\")\n",
    "\n",
    "#plt.savefig('pca-porto-01.png', dpi=150)\n",
    "plt.show()"
   ]
  },
  {
   "cell_type": "code",
   "execution_count": null,
   "metadata": {},
   "outputs": [],
   "source": []
  }
 ],
 "metadata": {
  "kernelspec": {
   "display_name": "Python 3",
   "language": "python",
   "name": "python3"
  },
  "language_info": {
   "codemirror_mode": {
    "name": "ipython",
    "version": 3
   },
   "file_extension": ".py",
   "mimetype": "text/x-python",
   "name": "python",
   "nbconvert_exporter": "python",
   "pygments_lexer": "ipython3",
   "version": "3.6.7"
  }
 },
 "nbformat": 4,
 "nbformat_minor": 2
}
