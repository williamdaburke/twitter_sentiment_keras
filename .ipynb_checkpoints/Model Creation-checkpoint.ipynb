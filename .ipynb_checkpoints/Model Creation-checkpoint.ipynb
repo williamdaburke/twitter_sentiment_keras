{
 "cells": [
  {
   "cell_type": "code",
   "execution_count": 66,
   "metadata": {},
   "outputs": [
    {
     "name": "stdout",
     "output_type": "stream",
     "text": [
      "[nltk_data] Downloading package stopwords to\n",
      "[nltk_data]     C:\\Users\\WBurke\\AppData\\Roaming\\nltk_data...\n",
      "[nltk_data]   Unzipping corpora\\stopwords.zip.\n"
     ]
    },
    {
     "data": {
      "text/plain": [
       "True"
      ]
     },
     "execution_count": 66,
     "metadata": {},
     "output_type": "execute_result"
    }
   ],
   "source": [
    "import pandas as pd\n",
    "import numpy as np \n",
    "import nltk\n",
    "from nltk.corpus import stopwords \n",
    "nltk.download('stopwords')\n",
    "\n",
    "from utils import *\n",
    "from text_preprocessing import *\n",
    "\n",
    "from IPython.core.interactiveshell import InteractiveShell\n",
    "InteractiveShell.ast_node_interactivity = \"all\""
   ]
  },
  {
   "cell_type": "code",
   "execution_count": 32,
   "metadata": {},
   "outputs": [
    {
     "name": "stdout",
     "output_type": "stream",
     "text": [
      "\n",
      "df shape:  (3000, 9)\n",
      "\n",
      "rows with null values:  Int64Index([1551, 1552], dtype='int64')\n",
      "rows that arent twitter:  1\n",
      "\n",
      "dropped one row, fixed other null by dropping platform col, as unneeded\n",
      "\n",
      "type of friends col:  int32\n",
      "\n",
      " country breakdown:  GB    2991\n",
      "GG       5\n",
      "JE       2\n",
      "IM       1\n",
      "Name: location.country, dtype: int64\n",
      "\n",
      "df shape:  (2999, 8)\n"
     ]
    },
    {
     "data": {
      "text/html": [
       "<div>\n",
       "<style scoped>\n",
       "    .dataframe tbody tr th:only-of-type {\n",
       "        vertical-align: middle;\n",
       "    }\n",
       "\n",
       "    .dataframe tbody tr th {\n",
       "        vertical-align: top;\n",
       "    }\n",
       "\n",
       "    .dataframe thead th {\n",
       "        text-align: right;\n",
       "    }\n",
       "</style>\n",
       "<table border=\"1\" class=\"dataframe\">\n",
       "  <thead>\n",
       "    <tr style=\"text-align: right;\">\n",
       "      <th></th>\n",
       "      <th>author.properties.friends</th>\n",
       "      <th>author.properties.status_count</th>\n",
       "      <th>author.properties.verified</th>\n",
       "      <th>content.body</th>\n",
       "      <th>location.country</th>\n",
       "      <th>location.latitude</th>\n",
       "      <th>location.longitude</th>\n",
       "      <th>properties.sentiment</th>\n",
       "    </tr>\n",
       "  </thead>\n",
       "  <tbody>\n",
       "    <tr>\n",
       "      <th>0</th>\n",
       "      <td>1689</td>\n",
       "      <td>22566.0</td>\n",
       "      <td>False</td>\n",
       "      <td>Can't believe I'm missing Love Island 😩</td>\n",
       "      <td>GB</td>\n",
       "      <td>51.570448</td>\n",
       "      <td>0.457135</td>\n",
       "      <td>1.0</td>\n",
       "    </tr>\n",
       "    <tr>\n",
       "      <th>1</th>\n",
       "      <td>114</td>\n",
       "      <td>1377.0</td>\n",
       "      <td>False</td>\n",
       "      <td>Last tweet about future wedding..... if I actu...</td>\n",
       "      <td>GB</td>\n",
       "      <td>52.969744</td>\n",
       "      <td>-1.172266</td>\n",
       "      <td>1.0</td>\n",
       "    </tr>\n",
       "    <tr>\n",
       "      <th>2</th>\n",
       "      <td>568</td>\n",
       "      <td>8375.0</td>\n",
       "      <td>False</td>\n",
       "      <td>How many times does he wonna say the phrase \"i...</td>\n",
       "      <td>GB</td>\n",
       "      <td>51.394369</td>\n",
       "      <td>0.026299</td>\n",
       "      <td>-1.0</td>\n",
       "    </tr>\n",
       "    <tr>\n",
       "      <th>3</th>\n",
       "      <td>1845</td>\n",
       "      <td>19394.0</td>\n",
       "      <td>False</td>\n",
       "      <td>...even better if time travel were invented an...</td>\n",
       "      <td>GB</td>\n",
       "      <td>51.648544</td>\n",
       "      <td>-3.804292</td>\n",
       "      <td>-1.0</td>\n",
       "    </tr>\n",
       "    <tr>\n",
       "      <th>4</th>\n",
       "      <td>1617</td>\n",
       "      <td>17922.0</td>\n",
       "      <td>False</td>\n",
       "      <td>@GreenAlty @ShakeyStephens My Mum in mid 80s p...</td>\n",
       "      <td>GB</td>\n",
       "      <td>53.543471</td>\n",
       "      <td>-2.653238</td>\n",
       "      <td>0.0</td>\n",
       "    </tr>\n",
       "  </tbody>\n",
       "</table>\n",
       "</div>"
      ],
      "text/plain": [
       "   author.properties.friends  author.properties.status_count  \\\n",
       "0                       1689                         22566.0   \n",
       "1                        114                          1377.0   \n",
       "2                        568                          8375.0   \n",
       "3                       1845                         19394.0   \n",
       "4                       1617                         17922.0   \n",
       "\n",
       "  author.properties.verified  \\\n",
       "0                      False   \n",
       "1                      False   \n",
       "2                      False   \n",
       "3                      False   \n",
       "4                      False   \n",
       "\n",
       "                                        content.body location.country  \\\n",
       "0            Can't believe I'm missing Love Island 😩               GB   \n",
       "1  Last tweet about future wedding..... if I actu...               GB   \n",
       "2  How many times does he wonna say the phrase \"i...               GB   \n",
       "3  ...even better if time travel were invented an...               GB   \n",
       "4  @GreenAlty @ShakeyStephens My Mum in mid 80s p...               GB   \n",
       "\n",
       "   location.latitude  location.longitude  properties.sentiment  \n",
       "0          51.570448            0.457135                   1.0  \n",
       "1          52.969744           -1.172266                   1.0  \n",
       "2          51.394369            0.026299                  -1.0  \n",
       "3          51.648544           -3.804292                  -1.0  \n",
       "4          53.543471           -2.653238                   0.0  "
      ]
     },
     "execution_count": 32,
     "metadata": {},
     "output_type": "execute_result"
    }
   ],
   "source": [
    "combined_df = preprocess_values(load_combined_df())\n",
    "combined_df.head()"
   ]
  },
  {
   "cell_type": "code",
   "execution_count": 70,
   "metadata": {},
   "outputs": [
    {
     "name": "stdout",
     "output_type": "stream",
     "text": [
      "encoded: author.properties.verified\n"
     ]
    },
    {
     "data": {
      "text/plain": [
       "'@sarahann_jones @heatherpeace @seachell74 @HP_Community @cocacolagirl35 factor 30 this year lesson learnt tee hee X'"
      ]
     },
     "execution_count": 70,
     "metadata": {},
     "output_type": "execute_result"
    },
    {
     "data": {
      "text/plain": [
       "'uservariable uservariable uservariable uservariable uservariable factor ## this year lesson learnt tee hee x'"
      ]
     },
     "execution_count": 70,
     "metadata": {},
     "output_type": "execute_result"
    },
    {
     "data": {
      "text/plain": [
       "'Ooh I understand now 😂😂 https://t.co/8HcNvxvqP0'"
      ]
     },
     "execution_count": 70,
     "metadata": {},
     "output_type": "execute_result"
    },
    {
     "data": {
      "text/plain": [
       "'ooh i understand now url'"
      ]
     },
     "execution_count": 70,
     "metadata": {},
     "output_type": "execute_result"
    },
    {
     "data": {
      "text/plain": [
       "['ooh', 'understand']"
      ]
     },
     "execution_count": 70,
     "metadata": {},
     "output_type": "execute_result"
    }
   ],
   "source": [
    "nlp_df = normalize(encode_labels(combined_df.drop(['location.country','location.latitude','location.longitude'],axis=1),['author.properties.verified']),['author.properties.friends','author.properties.status_count'])\n",
    "nlp_df['content.body'] = nlp_df['content.body'].apply(lambda x: preprocess_text(x))\n",
    "\n",
    "combined_df.loc[5,'content.body']\n",
    "nlp_df.loc[5,'content.body']\n",
    "combined_df.loc[20,'content.body']\n",
    "nlp_df.loc[20,'content.body']\n",
    "\n",
    "def tokenize(text):\n",
    "    stops = set(stopwords.words('english') + ['uservariable ','url'])\n",
    "    return [token for token in text.split() if token not in stops]\n",
    "\n",
    "tokenize(nlp_df.loc[20,'content.body'])\n",
    "nlp_df['content.body'] = nlp_df['content.body'].apply(lambda x: tokenize(x))"
   ]
  },
  {
   "cell_type": "code",
   "execution_count": 73,
   "metadata": {},
   "outputs": [],
   "source": []
  },
  {
   "cell_type": "code",
   "execution_count": 74,
   "metadata": {},
   "outputs": [],
   "source": []
  },
  {
   "cell_type": "code",
   "execution_count": 75,
   "metadata": {},
   "outputs": [],
   "source": []
  },
  {
   "cell_type": "code",
   "execution_count": 77,
   "metadata": {},
   "outputs": [],
   "source": [
    "\n"
   ]
  },
  {
   "cell_type": "code",
   "execution_count": null,
   "metadata": {},
   "outputs": [],
   "source": []
  }
 ],
 "metadata": {
  "kernelspec": {
   "display_name": "Python 3",
   "language": "python",
   "name": "python3"
  },
  "language_info": {
   "codemirror_mode": {
    "name": "ipython",
    "version": 3
   },
   "file_extension": ".py",
   "mimetype": "text/x-python",
   "name": "python",
   "nbconvert_exporter": "python",
   "pygments_lexer": "ipython3",
   "version": "3.6.7"
  }
 },
 "nbformat": 4,
 "nbformat_minor": 2
}
