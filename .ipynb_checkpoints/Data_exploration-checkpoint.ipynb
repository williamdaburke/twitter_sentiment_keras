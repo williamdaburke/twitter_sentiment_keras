{
 "cells": [
  {
   "cell_type": "code",
   "execution_count": 1,
   "metadata": {},
   "outputs": [],
   "source": [
    "import pandas as pd\n",
    "import numpy as np \n",
    "\n",
    "from utils import *\n",
    "from IPython.core.interactiveshell import InteractiveShell\n",
    "InteractiveShell.ast_node_interactivity = \"all\"\n",
    "\n",
    "from sklearn.decomposition import PCA\n",
    "import matplotlib.pyplot as plt\n",
    "plt.rcParams['figure.figsize'] = [30,15]"
   ]
  },
  {
   "cell_type": "code",
   "execution_count": 2,
   "metadata": {},
   "outputs": [
    {
     "name": "stdout",
     "output_type": "stream",
     "text": [
      "\n",
      "df shape:  (3000, 9)\n",
      "\n",
      "rows with null values:  Int64Index([1551, 1552], dtype='int64')\n",
      "rows that arent twitter:  1\n",
      "\n",
      "dropped one row, fixed other null by dropping platform col, as unneeded\n",
      "\n",
      "type of friends col:  int32\n",
      "\n",
      " country breakdown:  GB    2991\n",
      "GG       5\n",
      "JE       2\n",
      "IM       1\n",
      "Name: location.country, dtype: int64\n",
      "\n",
      "df shape:  (2999, 8)\n"
     ]
    },
    {
     "name": "stderr",
     "output_type": "stream",
     "text": [
      "E:\\Projects\\bitbucket\\fancy-a-challenge-william\\utils.py:16: FutureWarning: Sorting because non-concatenation axis is not aligned. A future version\n",
      "of pandas will change to not sort by default.\n",
      "\n",
      "To accept the future behavior, pass 'sort=False'.\n",
      "\n",
      "To retain the current behavior and silence the warning, pass 'sort=True'.\n",
      "\n",
      "  combined_df = pd.concat([csv_df,txt_df])\n"
     ]
    },
    {
     "data": {
      "text/html": [
       "<div>\n",
       "<style scoped>\n",
       "    .dataframe tbody tr th:only-of-type {\n",
       "        vertical-align: middle;\n",
       "    }\n",
       "\n",
       "    .dataframe tbody tr th {\n",
       "        vertical-align: top;\n",
       "    }\n",
       "\n",
       "    .dataframe thead th {\n",
       "        text-align: right;\n",
       "    }\n",
       "</style>\n",
       "<table border=\"1\" class=\"dataframe\">\n",
       "  <thead>\n",
       "    <tr style=\"text-align: right;\">\n",
       "      <th></th>\n",
       "      <th>author.properties.friends</th>\n",
       "      <th>author.properties.status_count</th>\n",
       "      <th>author.properties.verified</th>\n",
       "      <th>content.body</th>\n",
       "      <th>location.country</th>\n",
       "      <th>location.latitude</th>\n",
       "      <th>location.longitude</th>\n",
       "      <th>properties.sentiment</th>\n",
       "    </tr>\n",
       "  </thead>\n",
       "  <tbody>\n",
       "    <tr>\n",
       "      <th>0</th>\n",
       "      <td>1689</td>\n",
       "      <td>22566.0</td>\n",
       "      <td>False</td>\n",
       "      <td>Can't believe I'm missing Love Island 😩</td>\n",
       "      <td>GB</td>\n",
       "      <td>51.570448</td>\n",
       "      <td>0.457135</td>\n",
       "      <td>1.0</td>\n",
       "    </tr>\n",
       "    <tr>\n",
       "      <th>1</th>\n",
       "      <td>114</td>\n",
       "      <td>1377.0</td>\n",
       "      <td>False</td>\n",
       "      <td>Last tweet about future wedding..... if I actu...</td>\n",
       "      <td>GB</td>\n",
       "      <td>52.969744</td>\n",
       "      <td>-1.172266</td>\n",
       "      <td>1.0</td>\n",
       "    </tr>\n",
       "    <tr>\n",
       "      <th>2</th>\n",
       "      <td>568</td>\n",
       "      <td>8375.0</td>\n",
       "      <td>False</td>\n",
       "      <td>How many times does he wonna say the phrase \"i...</td>\n",
       "      <td>GB</td>\n",
       "      <td>51.394369</td>\n",
       "      <td>0.026299</td>\n",
       "      <td>-1.0</td>\n",
       "    </tr>\n",
       "    <tr>\n",
       "      <th>3</th>\n",
       "      <td>1845</td>\n",
       "      <td>19394.0</td>\n",
       "      <td>False</td>\n",
       "      <td>...even better if time travel were invented an...</td>\n",
       "      <td>GB</td>\n",
       "      <td>51.648544</td>\n",
       "      <td>-3.804292</td>\n",
       "      <td>-1.0</td>\n",
       "    </tr>\n",
       "    <tr>\n",
       "      <th>4</th>\n",
       "      <td>1617</td>\n",
       "      <td>17922.0</td>\n",
       "      <td>False</td>\n",
       "      <td>@GreenAlty @ShakeyStephens My Mum in mid 80s p...</td>\n",
       "      <td>GB</td>\n",
       "      <td>53.543471</td>\n",
       "      <td>-2.653238</td>\n",
       "      <td>0.0</td>\n",
       "    </tr>\n",
       "  </tbody>\n",
       "</table>\n",
       "</div>"
      ],
      "text/plain": [
       "   author.properties.friends  author.properties.status_count  \\\n",
       "0                       1689                         22566.0   \n",
       "1                        114                          1377.0   \n",
       "2                        568                          8375.0   \n",
       "3                       1845                         19394.0   \n",
       "4                       1617                         17922.0   \n",
       "\n",
       "  author.properties.verified  \\\n",
       "0                      False   \n",
       "1                      False   \n",
       "2                      False   \n",
       "3                      False   \n",
       "4                      False   \n",
       "\n",
       "                                        content.body location.country  \\\n",
       "0            Can't believe I'm missing Love Island 😩               GB   \n",
       "1  Last tweet about future wedding..... if I actu...               GB   \n",
       "2  How many times does he wonna say the phrase \"i...               GB   \n",
       "3  ...even better if time travel were invented an...               GB   \n",
       "4  @GreenAlty @ShakeyStephens My Mum in mid 80s p...               GB   \n",
       "\n",
       "   location.latitude  location.longitude  properties.sentiment  \n",
       "0          51.570448            0.457135                   1.0  \n",
       "1          52.969744           -1.172266                   1.0  \n",
       "2          51.394369            0.026299                  -1.0  \n",
       "3          51.648544           -3.804292                  -1.0  \n",
       "4          53.543471           -2.653238                   0.0  "
      ]
     },
     "execution_count": 2,
     "metadata": {},
     "output_type": "execute_result"
    },
    {
     "data": {
      "text/plain": [
       "<matplotlib.axes._subplots.AxesSubplot at 0x2b6e6c30ba8>"
      ]
     },
     "execution_count": 2,
     "metadata": {},
     "output_type": "execute_result"
    },
    {
     "data": {
      "text/html": [
       "<div>\n",
       "<style scoped>\n",
       "    .dataframe tbody tr th:only-of-type {\n",
       "        vertical-align: middle;\n",
       "    }\n",
       "\n",
       "    .dataframe tbody tr th {\n",
       "        vertical-align: top;\n",
       "    }\n",
       "\n",
       "    .dataframe thead th {\n",
       "        text-align: right;\n",
       "    }\n",
       "</style>\n",
       "<table border=\"1\" class=\"dataframe\">\n",
       "  <thead>\n",
       "    <tr style=\"text-align: right;\">\n",
       "      <th></th>\n",
       "      <th>author.properties.friends</th>\n",
       "      <th>author.properties.status_count</th>\n",
       "      <th>location.latitude</th>\n",
       "      <th>location.longitude</th>\n",
       "      <th>properties.sentiment</th>\n",
       "    </tr>\n",
       "  </thead>\n",
       "  <tbody>\n",
       "    <tr>\n",
       "      <th>count</th>\n",
       "      <td>2999.000000</td>\n",
       "      <td>2.999000e+03</td>\n",
       "      <td>2999.000000</td>\n",
       "      <td>2999.000000</td>\n",
       "      <td>2999.000000</td>\n",
       "    </tr>\n",
       "    <tr>\n",
       "      <th>mean</th>\n",
       "      <td>1320.079693</td>\n",
       "      <td>3.513996e+04</td>\n",
       "      <td>52.750163</td>\n",
       "      <td>-1.607843</td>\n",
       "      <td>-0.258419</td>\n",
       "    </tr>\n",
       "    <tr>\n",
       "      <th>std</th>\n",
       "      <td>8246.171997</td>\n",
       "      <td>1.291825e+05</td>\n",
       "      <td>1.655964</td>\n",
       "      <td>1.641746</td>\n",
       "      <td>0.781440</td>\n",
       "    </tr>\n",
       "    <tr>\n",
       "      <th>min</th>\n",
       "      <td>0.000000</td>\n",
       "      <td>2.000000e+00</td>\n",
       "      <td>49.187014</td>\n",
       "      <td>-7.817143</td>\n",
       "      <td>-1.000000</td>\n",
       "    </tr>\n",
       "    <tr>\n",
       "      <th>25%</th>\n",
       "      <td>260.500000</td>\n",
       "      <td>3.427500e+03</td>\n",
       "      <td>51.497043</td>\n",
       "      <td>-2.675644</td>\n",
       "      <td>-1.000000</td>\n",
       "    </tr>\n",
       "    <tr>\n",
       "      <th>50%</th>\n",
       "      <td>526.000000</td>\n",
       "      <td>1.143500e+04</td>\n",
       "      <td>52.200984</td>\n",
       "      <td>-1.396467</td>\n",
       "      <td>0.000000</td>\n",
       "    </tr>\n",
       "    <tr>\n",
       "      <th>75%</th>\n",
       "      <td>1081.500000</td>\n",
       "      <td>3.046100e+04</td>\n",
       "      <td>53.690849</td>\n",
       "      <td>-0.182814</td>\n",
       "      <td>0.000000</td>\n",
       "    </tr>\n",
       "    <tr>\n",
       "      <th>max</th>\n",
       "      <td>333028.000000</td>\n",
       "      <td>1.702464e+06</td>\n",
       "      <td>58.166389</td>\n",
       "      <td>1.403889</td>\n",
       "      <td>1.000000</td>\n",
       "    </tr>\n",
       "  </tbody>\n",
       "</table>\n",
       "</div>"
      ],
      "text/plain": [
       "       author.properties.friends  author.properties.status_count  \\\n",
       "count                2999.000000                    2.999000e+03   \n",
       "mean                 1320.079693                    3.513996e+04   \n",
       "std                  8246.171997                    1.291825e+05   \n",
       "min                     0.000000                    2.000000e+00   \n",
       "25%                   260.500000                    3.427500e+03   \n",
       "50%                   526.000000                    1.143500e+04   \n",
       "75%                  1081.500000                    3.046100e+04   \n",
       "max                333028.000000                    1.702464e+06   \n",
       "\n",
       "       location.latitude  location.longitude  properties.sentiment  \n",
       "count        2999.000000         2999.000000           2999.000000  \n",
       "mean           52.750163           -1.607843             -0.258419  \n",
       "std             1.655964            1.641746              0.781440  \n",
       "min            49.187014           -7.817143             -1.000000  \n",
       "25%            51.497043           -2.675644             -1.000000  \n",
       "50%            52.200984           -1.396467              0.000000  \n",
       "75%            53.690849           -0.182814              0.000000  \n",
       "max            58.166389            1.403889              1.000000  "
      ]
     },
     "execution_count": 2,
     "metadata": {},
     "output_type": "execute_result"
    },
    {
     "data": {
      "image/png": "[encoded data removed]",
      "text/plain": [
       "<Figure size 360x216 with 1 Axes>"
      ]
     },
     "metadata": {
      "needs_background": "light"
     },
     "output_type": "display_data"
    }
   ],
   "source": [
    "combined_df = preprocess_values(load_combined_df())\n",
    "combined_df.head()\n",
    "plt.rcParams['figure.figsize'] = [5,3]\n",
    "combined_df['location.country'][combined_df['location.country']!='GB'].value_counts().plot(kind='bar')\n",
    "combined_df.describe()"
   ]
  },
  {
   "cell_type": "code",
   "execution_count": 3,
   "metadata": {},
   "outputs": [
    {
     "data": {
      "text/html": [
       "<div>\n",
       "<style scoped>\n",
       "    .dataframe tbody tr th:only-of-type {\n",
       "        vertical-align: middle;\n",
       "    }\n",
       "\n",
       "    .dataframe tbody tr th {\n",
       "        vertical-align: top;\n",
       "    }\n",
       "\n",
       "    .dataframe thead th {\n",
       "        text-align: right;\n",
       "    }\n",
       "</style>\n",
       "<table border=\"1\" class=\"dataframe\">\n",
       "  <thead>\n",
       "    <tr style=\"text-align: right;\">\n",
       "      <th></th>\n",
       "      <th>author.properties.friends</th>\n",
       "      <th>author.properties.status_count</th>\n",
       "      <th>author.properties.verified</th>\n",
       "      <th>content.body</th>\n",
       "      <th>location.country</th>\n",
       "      <th>location.latitude</th>\n",
       "      <th>location.longitude</th>\n",
       "      <th>properties.sentiment</th>\n",
       "    </tr>\n",
       "  </thead>\n",
       "  <tbody>\n",
       "    <tr>\n",
       "      <th>536</th>\n",
       "      <td>2749</td>\n",
       "      <td>6387.0</td>\n",
       "      <td>False</td>\n",
       "      <td>@Jigman101 @VirtualAstro sadly not Lemon Drizz...</td>\n",
       "      <td>GG</td>\n",
       "      <td>49.571653</td>\n",
       "      <td>-2.417006</td>\n",
       "      <td>1.0</td>\n",
       "    </tr>\n",
       "    <tr>\n",
       "      <th>637</th>\n",
       "      <td>513</td>\n",
       "      <td>3311.0</td>\n",
       "      <td>False</td>\n",
       "      <td>@KimPye1983 I thought so. 😂😂</td>\n",
       "      <td>GG</td>\n",
       "      <td>49.460338</td>\n",
       "      <td>-2.542239</td>\n",
       "      <td>-1.0</td>\n",
       "    </tr>\n",
       "    <tr>\n",
       "      <th>1082</th>\n",
       "      <td>5090</td>\n",
       "      <td>670875.0</td>\n",
       "      <td>False</td>\n",
       "      <td>@Siriuo topic similar @ChronolabsCoop this art...</td>\n",
       "      <td>GG</td>\n",
       "      <td>49.433300</td>\n",
       "      <td>-2.650000</td>\n",
       "      <td>0.0</td>\n",
       "    </tr>\n",
       "    <tr>\n",
       "      <th>2266</th>\n",
       "      <td>599</td>\n",
       "      <td>5406.0</td>\n",
       "      <td>False</td>\n",
       "      <td>@diggs70 30 years ago probably the norm 🙈</td>\n",
       "      <td>GG</td>\n",
       "      <td>49.571653</td>\n",
       "      <td>-2.417006</td>\n",
       "      <td>-1.0</td>\n",
       "    </tr>\n",
       "    <tr>\n",
       "      <th>2841</th>\n",
       "      <td>1</td>\n",
       "      <td>18334.0</td>\n",
       "      <td>False</td>\n",
       "      <td>23:47 BST: Temp: 13.0°C,\\nWind: N, 2 mph (ave)...</td>\n",
       "      <td>GG</td>\n",
       "      <td>49.477000</td>\n",
       "      <td>-2.578000</td>\n",
       "      <td>0.0</td>\n",
       "    </tr>\n",
       "  </tbody>\n",
       "</table>\n",
       "</div>"
      ],
      "text/plain": [
       "      author.properties.friends  author.properties.status_count  \\\n",
       "536                        2749                          6387.0   \n",
       "637                         513                          3311.0   \n",
       "1082                       5090                        670875.0   \n",
       "2266                        599                          5406.0   \n",
       "2841                          1                         18334.0   \n",
       "\n",
       "     author.properties.verified  \\\n",
       "536                       False   \n",
       "637                       False   \n",
       "1082                      False   \n",
       "2266                      False   \n",
       "2841                      False   \n",
       "\n",
       "                                           content.body location.country  \\\n",
       "536   @Jigman101 @VirtualAstro sadly not Lemon Drizz...               GG   \n",
       "637                        @KimPye1983 I thought so. 😂😂               GG   \n",
       "1082  @Siriuo topic similar @ChronolabsCoop this art...               GG   \n",
       "2266          @diggs70 30 years ago probably the norm 🙈               GG   \n",
       "2841  23:47 BST: Temp: 13.0°C,\\nWind: N, 2 mph (ave)...               GG   \n",
       "\n",
       "      location.latitude  location.longitude  properties.sentiment  \n",
       "536           49.571653           -2.417006                   1.0  \n",
       "637           49.460338           -2.542239                  -1.0  \n",
       "1082          49.433300           -2.650000                   0.0  \n",
       "2266          49.571653           -2.417006                  -1.0  \n",
       "2841          49.477000           -2.578000                   0.0  "
      ]
     },
     "execution_count": 3,
     "metadata": {},
     "output_type": "execute_result"
    }
   ],
   "source": [
    "#googling these lon/lats show GG means Guersney.  (could also be done with google reverse geocoding api.)\n",
    "combined_df[combined_df['location.country']=='GG']"
   ]
  },
  {
   "cell_type": "markdown",
   "metadata": {},
   "source": [
    "It is hard to argue, from the following graph, that location is a big factor in the final sentiment score of the tweet, which logically makes sense.\n",
    "\n",
    "Interesting to note that all tweets are between longitude -2.7 and 1.4 and latitude 49 and 59. So this a rather limited region.  We notice all the tweets are from the UK, mostly Great Britain(GB), with 2 from Jersey(JE), 5 from Guernsey(GE), one from Isle of Man(IM)."
   ]
  },
  {
   "cell_type": "code",
   "execution_count": 4,
   "metadata": {},
   "outputs": [
    {
     "name": "stdout",
     "output_type": "stream",
     "text": [
      "\n",
      "Running PCA again ...\n"
     ]
    },
    {
     "data": {
      "text/plain": [
       "<matplotlib.collections.PathCollection at 0x2b6e6b1c390>"
      ]
     },
     "execution_count": 4,
     "metadata": {},
     "output_type": "execute_result"
    },
    {
     "data": {
      "text/plain": [
       "<matplotlib.collections.PathCollection at 0x2b6e6b1c780>"
      ]
     },
     "execution_count": 4,
     "metadata": {},
     "output_type": "execute_result"
    },
    {
     "data": {
      "text/plain": [
       "<matplotlib.legend.Legend at 0x2b6e6ab2b70>"
      ]
     },
     "execution_count": 4,
     "metadata": {},
     "output_type": "execute_result"
    },
    {
     "data": {
      "text/plain": [
       "Text(0.5,1,'Scatter plot of the training data projected on the 1st and 2nd principal components')"
      ]
     },
     "execution_count": 4,
     "metadata": {},
     "output_type": "execute_result"
    },
    {
     "data": {
      "text/plain": [
       "Text(0.5,0,'latitude')"
      ]
     },
     "execution_count": 4,
     "metadata": {},
     "output_type": "execute_result"
    },
    {
     "data": {
      "text/plain": [
       "Text(0,0.5,'longitude')"
      ]
     },
     "execution_count": 4,
     "metadata": {},
     "output_type": "execute_result"
    },
    {
     "data": {
      "image/png": "[encoded data removed]",
      "text/plain": [
       "<Figure size 2160x1080 with 1 Axes>"
      ]
     },
     "metadata": {
      "needs_background": "light"
     },
     "output_type": "display_data"
    }
   ],
   "source": [
    "geo_array = np.array(combined_df[['location.latitude','location.longitude']])\n",
    "\n",
    "print('\\nRunning PCA again ...')\n",
    "label_col = \"properties.sentiment\"\n",
    "y_normal = combined_df[label_col].values.astype(np.int8)\n",
    "target_names = np.unique(y_normal)\n",
    "\n",
    "colors = ['blue', 'red']\n",
    "plt.rcParams['figure.figsize'] = [30,15]\n",
    "\n",
    "for color, i, target_name in zip(colors, [0, 1], target_names):\n",
    "    plt.scatter(geo_array[y_normal == i, 0], geo_array[y_normal == i, 1], color=color, s=20,\n",
    "                alpha=.8, label=target_name, marker='.')\n",
    "plt.legend(loc='best', shadow=True, scatterpoints=3)\n",
    "plt.title(\n",
    "        \"Scatter plot of the training data projected on the 1st \"\n",
    "        \"and 2nd principal components\")\n",
    "plt.xlabel(\"latitude\")\n",
    "plt.ylabel(\"longitude\")\n",
    "\n",
    "#plt.savefig('pca-porto-01.png', dpi=150)\n",
    "plt.show()"
   ]
  },
  {
   "cell_type": "code",
   "execution_count": 5,
   "metadata": {},
   "outputs": [
    {
     "name": "stdout",
     "output_type": "stream",
     "text": [
      "encoded: author.properties.verified\n",
      "encoded: location.country\n"
     ]
    }
   ],
   "source": [
    "#encode country and verified cols\n",
    "combined_df = encode_labels(combined_df,['author.properties.verified','location.country'])\n"
   ]
  },
  {
   "cell_type": "code",
   "execution_count": 6,
   "metadata": {},
   "outputs": [
    {
     "name": "stdout",
     "output_type": "stream",
     "text": [
      "encoded: author.properties.verified\n",
      "\n",
      "Running PCA again ...\n",
      "There were 3 components to begin with: author.properties.friends, author.properties.status_count, author.properties.verified\n",
      "Explained variance: 1.0000\n"
     ]
    }
   ],
   "source": [
    "no_body_df = normalize(encode_labels(combined_df.drop(['content.body','location.country','location.latitude','location.longitude'],axis=1),['author.properties.verified']))\n",
    "\n",
    "print('\\nRunning PCA again ...')\n",
    "label_col = \"properties.sentiment\"\n",
    "y_normal = no_body_df[label_col].values.astype(np.int8)\n",
    "\n",
    "colors = ['blue', 'red']\n",
    "\n",
    "n_comp = len(no_body_df.drop([label_col],axis=1).columns)\n",
    "\n",
    "print(f'There were {n_comp} components to begin with: {\", \".join(no_body_df.drop([label_col],axis=1).columns)}')\n",
    "target_names = np.unique(y_normal)\n",
    "pca = PCA(n_components=n_comp, svd_solver='full', random_state=1001)\n",
    "X_pca = pca.fit_transform(no_body_df.drop([label_col],axis=1).values)\n",
    "print('Explained variance: %.4f' % pca.explained_variance_ratio_.sum())"
   ]
  },
  {
   "cell_type": "code",
   "execution_count": 7,
   "metadata": {
    "scrolled": false
   },
   "outputs": [
    {
     "name": "stdout",
     "output_type": "stream",
     "text": [
      "Individual variance contributions:\n",
      "0.5444343185734773\n",
      "0.4118780176549874\n",
      "0.043687663771535316\n"
     ]
    },
    {
     "data": {
      "text/plain": [
       "<matplotlib.collections.PathCollection at 0x2b6e6acff60>"
      ]
     },
     "execution_count": 7,
     "metadata": {},
     "output_type": "execute_result"
    },
    {
     "data": {
      "text/plain": [
       "<matplotlib.collections.PathCollection at 0x2b6e6ac2da0>"
      ]
     },
     "execution_count": 7,
     "metadata": {},
     "output_type": "execute_result"
    },
    {
     "data": {
      "text/plain": [
       "<matplotlib.legend.Legend at 0x2b6e6bbf710>"
      ]
     },
     "execution_count": 7,
     "metadata": {},
     "output_type": "execute_result"
    },
    {
     "data": {
      "text/plain": [
       "Text(0.5,1,'Scatter plot of the training data projected on the 1st and 2nd principal components')"
      ]
     },
     "execution_count": 7,
     "metadata": {},
     "output_type": "execute_result"
    },
    {
     "data": {
      "text/plain": [
       "Text(0.5,0,'Principal axis 1 - Explains 54.4 % of the variance')"
      ]
     },
     "execution_count": 7,
     "metadata": {},
     "output_type": "execute_result"
    },
    {
     "data": {
      "text/plain": [
       "Text(0,0.5,'Principal axis 2 - Explains 41.2 % of the variance')"
      ]
     },
     "execution_count": 7,
     "metadata": {},
     "output_type": "execute_result"
    },
    {
     "name": "stdout",
     "output_type": "stream",
     "text": [
      "Correlation with sentiment: \n",
      " ---------------------\n",
      "author.properties.friends: 0.024300949979256373\n",
      "author.properties.status_count: 0.03636783031129115\n",
      "author.properties.verified: 0.03886120752344499\n"
     ]
    },
    {
     "data": {
      "image/png": "[encoded data removed]",
      "text/plain": [
       "<Figure size 2160x1080 with 1 Axes>"
      ]
     },
     "metadata": {
      "needs_background": "light"
     },
     "output_type": "display_data"
    }
   ],
   "source": [
    "print('Individual variance contributions:')\n",
    "for j in range(n_comp):\n",
    "    print(pca.explained_variance_ratio_[j])\n",
    "\n",
    "colors = ['blue', 'red']\n",
    "plt.rcParams['figure.figsize'] = [30,15]\n",
    "\n",
    "for color, i, target_name in zip(colors, [0, 1], target_names):\n",
    "    plt.scatter(X_pca[y_normal == i, 0], X_pca[y_normal == i, 1], color=color, s=1,\n",
    "                alpha=.8, label=target_name, marker='.')\n",
    "plt.legend(loc='best', shadow=False, scatterpoints=3)\n",
    "plt.title(\n",
    "        \"Scatter plot of the training data projected on the 1st \"\n",
    "        \"and 2nd principal components\")\n",
    "plt.xlabel(\"Principal axis 1 - Explains %.1f %% of the variance\" % (\n",
    "        pca.explained_variance_ratio_[0] * 100.0))\n",
    "plt.ylabel(\"Principal axis 2 - Explains %.1f %% of the variance\" % (\n",
    "        pca.explained_variance_ratio_[1] * 100.0))\n",
    "\n",
    "print(\"Correlation with sentiment: \\n ---------------------\")\n",
    "for col in no_body_df.drop([label_col],axis=1):\n",
    "    print(f\"{col}: {no_body_df[col].corr(no_body_df[label_col])}\")\n",
    "\n",
    "plt.show()"
   ]
  },
  {
   "cell_type": "markdown",
   "metadata": {},
   "source": [
    "It seems from this initial look, it cannot fully be determined with the sentiment is positive or negative based solely on metadata, therefore it will be necessary to analyse body of the tweets.\n",
    "\n",
    "While the location data does not seem meaningful, these 3 features could add a little bit to the model."
   ]
  },
  {
   "cell_type": "code",
   "execution_count": null,
   "metadata": {},
   "outputs": [],
   "source": []
  },
  {
   "cell_type": "code",
   "execution_count": null,
   "metadata": {},
   "outputs": [],
   "source": []
  }
 ],
 "metadata": {
  "kernelspec": {
   "display_name": "Python 3",
   "language": "python",
   "name": "python3"
  },
  "language_info": {
   "codemirror_mode": {
    "name": "ipython",
    "version": 3
   },
   "file_extension": ".py",
   "mimetype": "text/x-python",
   "name": "python",
   "nbconvert_exporter": "python",
   "pygments_lexer": "ipython3",
   "version": "3.6.7"
  }
 },
 "nbformat": 4,
 "nbformat_minor": 2
}
