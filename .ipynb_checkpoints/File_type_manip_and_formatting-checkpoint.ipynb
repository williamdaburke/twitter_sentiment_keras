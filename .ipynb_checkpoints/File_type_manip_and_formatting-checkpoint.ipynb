{
 "cells": [
  {
   "cell_type": "code",
   "execution_count": 1,
   "metadata": {},
   "outputs": [],
   "source": [
    "import pandas as pd\n",
    "from IPython.core.interactiveshell import InteractiveShell\n",
    "InteractiveShell.ast_node_interactivity = \"all\""
   ]
  },
  {
   "cell_type": "code",
   "execution_count": 2,
   "metadata": {},
   "outputs": [
    {
     "name": "stderr",
     "output_type": "stream",
     "text": [
      "c:\\users\\wburke\\projects\\venv36\\lib\\site-packages\\ipykernel_launcher.py:7: FutureWarning: Sorting because non-concatenation axis is not aligned. A future version\n",
      "of pandas will change to not sort by default.\n",
      "\n",
      "To accept the future behavior, pass 'sort=False'.\n",
      "\n",
      "To retain the current behavior and silence the warning, pass 'sort=True'.\n",
      "\n",
      "  import sys\n"
     ]
    },
    {
     "data": {
      "text/plain": [
       "(2000, 9)"
      ]
     },
     "execution_count": 2,
     "metadata": {},
     "output_type": "execute_result"
    },
    {
     "data": {
      "text/html": [
       "<div>\n",
       "<style scoped>\n",
       "    .dataframe tbody tr th:only-of-type {\n",
       "        vertical-align: middle;\n",
       "    }\n",
       "\n",
       "    .dataframe tbody tr th {\n",
       "        vertical-align: top;\n",
       "    }\n",
       "\n",
       "    .dataframe thead th {\n",
       "        text-align: right;\n",
       "    }\n",
       "</style>\n",
       "<table border=\"1\" class=\"dataframe\">\n",
       "  <thead>\n",
       "    <tr style=\"text-align: right;\">\n",
       "      <th></th>\n",
       "      <th>author.properties.friends</th>\n",
       "      <th>author.properties.status_count</th>\n",
       "      <th>author.properties.verified</th>\n",
       "      <th>content.body</th>\n",
       "      <th>location.country</th>\n",
       "      <th>location.latitude</th>\n",
       "      <th>location.longitude</th>\n",
       "      <th>properties.platform</th>\n",
       "      <th>properties.sentiment</th>\n",
       "    </tr>\n",
       "  </thead>\n",
       "  <tbody>\n",
       "    <tr>\n",
       "      <th>0</th>\n",
       "      <td>1689</td>\n",
       "      <td>22566.0</td>\n",
       "      <td>False</td>\n",
       "      <td>Can't believe I'm missing Love Island 😩</td>\n",
       "      <td>GB</td>\n",
       "      <td>51.570448</td>\n",
       "      <td>0.457135</td>\n",
       "      <td>twitter</td>\n",
       "      <td>1.0</td>\n",
       "    </tr>\n",
       "    <tr>\n",
       "      <th>1</th>\n",
       "      <td>114</td>\n",
       "      <td>1377.0</td>\n",
       "      <td>False</td>\n",
       "      <td>Last tweet about future wedding..... if I actu...</td>\n",
       "      <td>GB</td>\n",
       "      <td>52.969744</td>\n",
       "      <td>-1.172266</td>\n",
       "      <td>twitter</td>\n",
       "      <td>1.0</td>\n",
       "    </tr>\n",
       "    <tr>\n",
       "      <th>2</th>\n",
       "      <td>568</td>\n",
       "      <td>8375.0</td>\n",
       "      <td>False</td>\n",
       "      <td>How many times does he wonna say the phrase \"i...</td>\n",
       "      <td>GB</td>\n",
       "      <td>51.394369</td>\n",
       "      <td>0.026299</td>\n",
       "      <td>twitter</td>\n",
       "      <td>-1.0</td>\n",
       "    </tr>\n",
       "    <tr>\n",
       "      <th>3</th>\n",
       "      <td>1845</td>\n",
       "      <td>19394.0</td>\n",
       "      <td>False</td>\n",
       "      <td>...even better if time travel were invented an...</td>\n",
       "      <td>GB</td>\n",
       "      <td>51.648544</td>\n",
       "      <td>-3.804292</td>\n",
       "      <td>twitter</td>\n",
       "      <td>-1.0</td>\n",
       "    </tr>\n",
       "  </tbody>\n",
       "</table>\n",
       "</div>"
      ],
      "text/plain": [
       "  author.properties.friends  author.properties.status_count  \\\n",
       "0                      1689                         22566.0   \n",
       "1                       114                          1377.0   \n",
       "2                       568                          8375.0   \n",
       "3                      1845                         19394.0   \n",
       "\n",
       "  author.properties.verified  \\\n",
       "0                      False   \n",
       "1                      False   \n",
       "2                      False   \n",
       "3                      False   \n",
       "\n",
       "                                        content.body location.country  \\\n",
       "0            Can't believe I'm missing Love Island 😩               GB   \n",
       "1  Last tweet about future wedding..... if I actu...               GB   \n",
       "2  How many times does he wonna say the phrase \"i...               GB   \n",
       "3  ...even better if time travel were invented an...               GB   \n",
       "\n",
       "   location.latitude  location.longitude properties.platform  \\\n",
       "0          51.570448            0.457135             twitter   \n",
       "1          52.969744           -1.172266             twitter   \n",
       "2          51.394369            0.026299             twitter   \n",
       "3          51.648544           -3.804292             twitter   \n",
       "\n",
       "   properties.sentiment  \n",
       "0                   1.0  \n",
       "1                   1.0  \n",
       "2                  -1.0  \n",
       "3                  -1.0  "
      ]
     },
     "execution_count": 2,
     "metadata": {},
     "output_type": "execute_result"
    }
   ],
   "source": [
    "csv_df = pd.read_csv('data/csv_file.csv')\n",
    "txt_df = pd.read_csv('data/txt_file.txt')\n",
    "#check columns are same\n",
    "assert(sorted(csv_df.columns)==sorted(txt_df.columns))\n",
    "#check sizes\n",
    "assert(txt_df.shape==csv_df.shape)\n",
    "combined_df = pd.concat([csv_df,txt_df])\n",
    "combined_df.shape\n",
    "#check for duplicates\n",
    "assert(combined_df[combined_df.duplicated(keep=False)].empty)\n",
    "combined_df.head(4)"
   ]
  },
  {
   "cell_type": "code",
   "execution_count": 3,
   "metadata": {},
   "outputs": [
    {
     "data": {
      "text/plain": [
       "(3000, 9)"
      ]
     },
     "execution_count": 3,
     "metadata": {},
     "output_type": "execute_result"
    },
    {
     "data": {
      "text/html": [
       "<div>\n",
       "<style scoped>\n",
       "    .dataframe tbody tr th:only-of-type {\n",
       "        vertical-align: middle;\n",
       "    }\n",
       "\n",
       "    .dataframe tbody tr th {\n",
       "        vertical-align: top;\n",
       "    }\n",
       "\n",
       "    .dataframe thead th {\n",
       "        text-align: right;\n",
       "    }\n",
       "</style>\n",
       "<table border=\"1\" class=\"dataframe\">\n",
       "  <thead>\n",
       "    <tr style=\"text-align: right;\">\n",
       "      <th></th>\n",
       "      <th>author.properties.friends</th>\n",
       "      <th>author.properties.status_count</th>\n",
       "      <th>author.properties.verified</th>\n",
       "      <th>content.body</th>\n",
       "      <th>location.country</th>\n",
       "      <th>location.latitude</th>\n",
       "      <th>location.longitude</th>\n",
       "      <th>properties.platform</th>\n",
       "      <th>properties.sentiment</th>\n",
       "    </tr>\n",
       "  </thead>\n",
       "  <tbody>\n",
       "    <tr>\n",
       "      <th>0</th>\n",
       "      <td>1689</td>\n",
       "      <td>22566.0</td>\n",
       "      <td>False</td>\n",
       "      <td>Can't believe I'm missing Love Island 😩</td>\n",
       "      <td>GB</td>\n",
       "      <td>51.570448</td>\n",
       "      <td>0.457135</td>\n",
       "      <td>twitter</td>\n",
       "      <td>1.0</td>\n",
       "    </tr>\n",
       "    <tr>\n",
       "      <th>1</th>\n",
       "      <td>114</td>\n",
       "      <td>1377.0</td>\n",
       "      <td>False</td>\n",
       "      <td>Last tweet about future wedding..... if I actu...</td>\n",
       "      <td>GB</td>\n",
       "      <td>52.969744</td>\n",
       "      <td>-1.172266</td>\n",
       "      <td>twitter</td>\n",
       "      <td>1.0</td>\n",
       "    </tr>\n",
       "    <tr>\n",
       "      <th>2</th>\n",
       "      <td>568</td>\n",
       "      <td>8375.0</td>\n",
       "      <td>False</td>\n",
       "      <td>How many times does he wonna say the phrase \"i...</td>\n",
       "      <td>GB</td>\n",
       "      <td>51.394369</td>\n",
       "      <td>0.026299</td>\n",
       "      <td>twitter</td>\n",
       "      <td>-1.0</td>\n",
       "    </tr>\n",
       "    <tr>\n",
       "      <th>3</th>\n",
       "      <td>1845</td>\n",
       "      <td>19394.0</td>\n",
       "      <td>False</td>\n",
       "      <td>...even better if time travel were invented an...</td>\n",
       "      <td>GB</td>\n",
       "      <td>51.648544</td>\n",
       "      <td>-3.804292</td>\n",
       "      <td>twitter</td>\n",
       "      <td>-1.0</td>\n",
       "    </tr>\n",
       "    <tr>\n",
       "      <th>4</th>\n",
       "      <td>1617</td>\n",
       "      <td>17922.0</td>\n",
       "      <td>False</td>\n",
       "      <td>@GreenAlty @ShakeyStephens My Mum in mid 80s p...</td>\n",
       "      <td>GB</td>\n",
       "      <td>53.543471</td>\n",
       "      <td>-2.653238</td>\n",
       "      <td>twitter</td>\n",
       "      <td>0.0</td>\n",
       "    </tr>\n",
       "  </tbody>\n",
       "</table>\n",
       "</div>"
      ],
      "text/plain": [
       "  author.properties.friends  author.properties.status_count  \\\n",
       "0                      1689                         22566.0   \n",
       "1                       114                          1377.0   \n",
       "2                       568                          8375.0   \n",
       "3                      1845                         19394.0   \n",
       "4                      1617                         17922.0   \n",
       "\n",
       "  author.properties.verified  \\\n",
       "0                      False   \n",
       "1                      False   \n",
       "2                      False   \n",
       "3                      False   \n",
       "4                      False   \n",
       "\n",
       "                                        content.body location.country  \\\n",
       "0            Can't believe I'm missing Love Island 😩               GB   \n",
       "1  Last tweet about future wedding..... if I actu...               GB   \n",
       "2  How many times does he wonna say the phrase \"i...               GB   \n",
       "3  ...even better if time travel were invented an...               GB   \n",
       "4  @GreenAlty @ShakeyStephens My Mum in mid 80s p...               GB   \n",
       "\n",
       "   location.latitude  location.longitude properties.platform  \\\n",
       "0          51.570448            0.457135             twitter   \n",
       "1          52.969744           -1.172266             twitter   \n",
       "2          51.394369            0.026299             twitter   \n",
       "3          51.648544           -3.804292             twitter   \n",
       "4          53.543471           -2.653238             twitter   \n",
       "\n",
       "   properties.sentiment  \n",
       "0                   1.0  \n",
       "1                   1.0  \n",
       "2                  -1.0  \n",
       "3                  -1.0  \n",
       "4                   0.0  "
      ]
     },
     "execution_count": 3,
     "metadata": {},
     "output_type": "execute_result"
    }
   ],
   "source": [
    "import json\n",
    "from pandas.io.json import json_normalize    \n",
    "\n",
    "with open('data/json_file.json') as data_file:    \n",
    "    json_df = json_normalize(json.load(data_file))\n",
    "\n",
    "#check columns are same\n",
    "assert(sorted(csv_df.columns)==sorted(json_df.columns))\n",
    "#check sizes\n",
    "assert(txt_df.shape==json_df.shape)\n",
    "\n",
    "combined_df = pd.concat([combined_df,json_df]).reset_index(drop=True)\n",
    "combined_df.shape\n",
    "combined_df.head()"
   ]
  },
  {
   "cell_type": "code",
   "execution_count": 4,
   "metadata": {},
   "outputs": [
    {
     "data": {
      "text/plain": [
       "'Thought this was a pretty cool photo I got of Drew today 😂🤔💁🏻 https://t.co/MTNJfJgQoz'"
      ]
     },
     "execution_count": 4,
     "metadata": {},
     "output_type": "execute_result"
    }
   ],
   "source": [
    "combined_df.loc[53,'content.body']"
   ]
  },
  {
   "cell_type": "code",
   "execution_count": 21,
   "metadata": {
    "scrolled": false
   },
   "outputs": [
    {
     "name": "stdout",
     "output_type": "stream",
     "text": [
      "\n",
      " 0 : cannot believe i am missing love island weary face\n",
      "1 : Can't believe I'm missing Love Island 😩\n",
      "\n",
      " 1 : last tweet about future wedding if i actually want a wedding i actually need to find a guy funny we all know i am a loner unlovable\n",
      "1 : Last tweet about future wedding..... if I actually want a wedding I actually need to find a guy XD we all know I'm a loner. unlovable\n",
      "\n",
      " 6 : folk at level ## running around in reaper mariachi skins and i am level ## with fuck aw\n",
      "1 : Folk at level 12 running around in Reaper mariachi skins and I'm level 30 with FUCK AW\n",
      "\n",
      " 14 : ## ## bst experimental forecast for the next ## hours fairly fine showery later\n",
      "1 : 21:57 BST: Experimental forecast for the next 12 hours: Fairly fine, showery later\n",
      "\n",
      " 16 : lit me and uservariable url\n",
      "1 : Lit me and @Orange_Peels https://t.co/blxTupgHFn\n",
      "\n",
      " 25 : uservariable just lay in my coffin for a few hours whilst watching prison break\n",
      "1 : @Barlow96 just lay in my coffin for a few hours whilst watching prison break\n",
      "\n",
      " 34 : i love my london life url\n",
      "1 : I love my London life https://t.co/HrXgrK5gma\n",
      "\n",
      " 35 : uservariable that was a really good watch great team great players and as you say great manager sheringham looks like he hasnt aged exclamation\n",
      "1 : @tobyperkinsmp that was a really good watch, great team, great players and as you say great manager. Sheringham looks like he hasn’t aged!\n",
      "\n",
      " 48 : new music alert url\n",
      "1 : New Music Alert  https://t.co/nDKbwFcD7d\n",
      "\n",
      " 58 : uservariable er than what\n",
      "1 : @dragon4758 er...than what?\n",
      "\n",
      " 59 : uservariable love this exclamation exclamation exclamation kisses x\n",
      "1 : @leahgibsonxo love this!!! xoxox\n",
      "\n",
      " 61 : eric's wife and daughter dies with one arrow double kill face with tears of joy\n",
      "1 : Eric's Wife and daughter dies with one arrow, Double kill 😂\n",
      "\n",
      " 62 : uservariable drinkwater is a much better player than a fit henderson or barkley and could have provided so much for vardy thanks roy exclamation exclamation\n",
      "1 : @WestHam_Central  Drinkwater is a much better player than a fit Henderson or Barkley and could have provided so much for Vardy  Thanks Roy!!\n",
      "\n",
      " 66 : uservariable uservariable curiosity has peaked exclamation exclamation\n",
      "1 : @BodaciousChase @Baphometta_ curiosity has peaked!!\n",
      "\n",
      " 67 : uservariable uservariable uservariable uservariable huge celebs at bs linwood barclay last year stewart bain this year exclamation exclamation\n",
      "1 : @_Stewart_Bain @BloodyScotland @Lin_Anderson @doug_johnstone  Huge Celebs at BS, Linwood Barclay last year Stewart Bain this year!!\n",
      "\n",
      " 68 : le voy a decir a la gente que extrao que la extrao\n",
      "1 : le voy a decir a la gente que extraño, que la extraño.\n",
      "\n",
      " 76 : lol i am in a well good mood\n",
      "1 : Lol I'm in a well good mood\n",
      "\n",
      " 77 : not looking forward to an early start tomorrow\n",
      "1 : Not looking forward to an early start tomorrow\n",
      "\n",
      " 87 : massive happy birthday to uservariable have a good one exclamation exclamation party popper blue heart\n",
      "1 : Massive happy birthday to @Il0vevic have a good one!! 🎉💙\n",
      "\n",
      " 88 : night night ma lifesavers uservariable uservariable uservariable uservariable uservariable growing heart growing heart growing heart growing heart red heart red heart red heart red heart love ye's so much xxxxxxxxxxxxxxxxxxxx\n",
      "1 : Night night ma lifesavers @itsDannyJones @TomFletcher @mcflyharry @DougiePoynter @mcflymusic 💗💗💗💗❤❤❤❤ love ye's so much xxxxxxxxxxxxxxxxxxxx\n",
      "\n",
      " 92 : photography is so beautiful smiling face with heart eyes\n",
      "1 : Photography is so beautiful 😍\n",
      "\n",
      " 95 : taylor swift and calvin harris have broken up\n",
      "1 : Taylor Swift and Calvin Harris have broken up... #DoIHearANewAlbun\n",
      "\n",
      " 100 : uservariable any idea what time you are flying out tomorrow morning\n",
      "1 : @tisnees any idea what time you're flying out tomorrow morning?\n",
      "\n",
      " 115 : uservariable happy birthday you legend\n",
      "1 : @I_Skream happy birthday u legend\n",
      "\n",
      " 125 : uservariable thanks for such an insightful post exclamation am sharing with my extended family members happy\n",
      "1 : @SheaCompanions Thanks for such an insightful post! Am sharing with my extended family members :)\n",
      "\n",
      " 132 : uservariable this saturday\n",
      "1 : @Ellehardman95 this Saturday?\n",
      "\n",
      " 136 : uservariable yesss absolutely i want iyaz and taoi cruz me\n",
      "1 : @Shanegreen_ yesss absolutely, I want Iyaz and Taoi Cruz me\n",
      "\n",
      " 138 : i really should not be going to sleep in my fleecy pjs in june june snowflake\n",
      "1 : I really shouldn't be going to sleep in my fleecy pjs in June, JUNE ❄️\n",
      "\n",
      " 139 : uservariable thanks for the follow always great to connect find out more url url\n",
      "1 : @A_Jax Thanks for the follow. Always great to connect find out more https://t.co/5MTzsZqvvN https://t.co/EnQkuEV9Br #BritainHasSpirit\n",
      "\n",
      " 140 : uservariable my day made\n",
      "1 : @_Bennehh My day = made\n"
     ]
    }
   ],
   "source": [
    "from text_preprocessing import *\n",
    "csv_df = pd.read_csv('data/csv_file.csv')\n",
    "\n",
    "for index, row in csv_df[csv_df['properties.sentiment']==1].head(30).iterrows():\n",
    "    print('\\n',index,':',preprocess_text(row['content.body']))\n",
    "    print(row['properties.sentiment'],':',row['content.body'])"
   ]
  },
  {
   "cell_type": "code",
   "execution_count": 10,
   "metadata": {},
   "outputs": [
    {
     "data": {
      "text/plain": [
       "''"
      ]
     },
     "execution_count": 10,
     "metadata": {},
     "output_type": "execute_result"
    }
   ],
   "source": [
    "preprocess_text('المفروض دام مالي خلق ما ادخل هنا خير يا انا ؟ اطلعي اطلعي')"
   ]
  },
  {
   "cell_type": "code",
   "execution_count": 13,
   "metadata": {},
   "outputs": [
    {
     "data": {
      "text/plain": [
       "'hiiiii'"
      ]
     },
     "execution_count": 13,
     "metadata": {},
     "output_type": "execute_result"
    }
   ],
   "source": [
    "re.sub(r'\\*+', '*', 'hiiiii')"
   ]
  },
  {
   "cell_type": "code",
   "execution_count": 20,
   "metadata": {},
   "outputs": [
    {
     "data": {
      "text/plain": [
       "'food'"
      ]
     },
     "execution_count": 20,
     "metadata": {},
     "output_type": "execute_result"
    }
   ],
   "source": [
    "re.sub(r'(.)\\1+', r'\\1\\1', 'foood')"
   ]
  },
  {
   "cell_type": "code",
   "execution_count": null,
   "metadata": {},
   "outputs": [],
   "source": []
  }
 ],
 "metadata": {
  "kernelspec": {
   "display_name": "Python 3",
   "language": "python",
   "name": "python3"
  },
  "language_info": {
   "codemirror_mode": {
    "name": "ipython",
    "version": 3
   },
   "file_extension": ".py",
   "mimetype": "text/x-python",
   "name": "python",
   "nbconvert_exporter": "python",
   "pygments_lexer": "ipython3",
   "version": "3.6.7"
  }
 },
 "nbformat": 4,
 "nbformat_minor": 2
}
