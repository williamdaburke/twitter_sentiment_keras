{
 "cells": [
  {
   "cell_type": "code",
   "execution_count": 1,
   "metadata": {},
   "outputs": [],
   "source": [
    "import json, requests\n",
    "import pandas as pd\n",
    "from utils import *\n",
    "from IPython.core.interactiveshell import InteractiveShell\n",
    "InteractiveShell.ast_node_interactivity = \"all\""
   ]
  },
  {
   "cell_type": "code",
   "execution_count": 30,
   "metadata": {},
   "outputs": [
    {
     "name": "stdout",
     "output_type": "stream",
     "text": [
      "The index of House Breakstone is:  41\n"
     ]
    }
   ],
   "source": [
    "#Question a)\n",
    "\n",
    "for house in json.loads(requests.get('https://anapioficeandfire.com/api/houses?pageSize=1000').text):\n",
    "    if house['name'] == 'House Breakstone':\n",
    "        print('The index of House Breakstone is: ',house['url'].split('/')[-1])  "
   ]
  },
  {
   "cell_type": "code",
   "execution_count": 52,
   "metadata": {},
   "outputs": [
    {
     "name": "stdout",
     "output_type": "stream",
     "text": [
      "There are 14 females, 26 males, and 0 unknown genders in the first 40 characters.\n"
     ]
    }
   ],
   "source": [
    "#Question b)\n",
    "import collections\n",
    "genders = [character['gender'] for character in json.loads(requests.get('https://anapioficeandfire.com/api/characters?pageSize=40').text)]\n",
    "\n",
    "counter = collections.Counter(genders)\n",
    "m = counter['Male']\n",
    "f = counter['Female']\n",
    "print(f\"There are {f} females, {m} males, and {40 - f - m} unknown genders in the first 40 characters.\")"
   ]
  },
  {
   "cell_type": "code",
   "execution_count": 51,
   "metadata": {},
   "outputs": [
    {
     "name": "stdout",
     "output_type": "stream",
     "text": [
      "There are 12 books in the api\n"
     ]
    }
   ],
   "source": [
    "#Question c)\n",
    "max_books = 1000\n",
    "books_on_first_page = len(json.loads(requests.get(f'https://anapioficeandfire.com/api/books?pageSize={max_books}').text))\n",
    "assert(books_on_first_page < max_books)\n",
    "print(f'There are {books_on_first_page} books in the api')\n",
    "\n"
   ]
  },
  {
   "cell_type": "code",
   "execution_count": 58,
   "metadata": {},
   "outputs": [
    {
     "name": "stdout",
     "output_type": "stream",
     "text": [
      "High Septon appears in books: A Feast for Crows, A Dance with Dragons\n"
     ]
    }
   ],
   "source": [
    "#Question d)\n",
    "\n",
    "searched_character = 'High Septon'\n",
    "\n",
    "def find_character_books(searched_character):\n",
    "    for character in json.loads(requests.get('https://anapioficeandfire.com/api/characters?pageSize=1000').text):\n",
    "        if character['name'] == searched_character:\n",
    "            character_url = character['url']\n",
    "\n",
    "    in_books = []\n",
    "\n",
    "    for book in json.loads(requests.get(f'https://anapioficeandfire.com/api/books?pageSize=15').text):\n",
    "        if character_url in book['characters']:\n",
    "            in_books.append(book['name'])\n",
    "    return in_books\n",
    "\n",
    "\n",
    "print(f'{searched_character} appears in books: {\", \".join(find_character_books(searched_character))}')"
   ]
  }
 ],
 "metadata": {
  "kernelspec": {
   "display_name": "Python 3",
   "language": "python",
   "name": "python3"
  },
  "language_info": {
   "codemirror_mode": {
    "name": "ipython",
    "version": 3
   },
   "file_extension": ".py",
   "mimetype": "text/x-python",
   "name": "python",
   "nbconvert_exporter": "python",
   "pygments_lexer": "ipython3",
   "version": "3.6.7"
  }
 },
 "nbformat": 4,
 "nbformat_minor": 2
}
